{
 "cells": [
  {
   "cell_type": "markdown",
   "id": "84d22873",
   "metadata": {},
   "source": [
    "# Import the libraries"
   ]
  },
  {
   "cell_type": "code",
   "execution_count": 16,
   "id": "f9f23f2f",
   "metadata": {},
   "outputs": [],
   "source": [
    "import pandas as pd\n",
    "import numpy as np\n",
    "import seaborn as sns\n",
    "import country_converter as coco\n",
    "import matplotlib\n",
    "import os\n",
    "import folium\n",
    "import json"
   ]
  },
  {
   "cell_type": "markdown",
   "id": "497174a2",
   "metadata": {},
   "source": [
    "# Import the data"
   ]
  },
  {
   "cell_type": "code",
   "execution_count": 17,
   "id": "0577f18b",
   "metadata": {},
   "outputs": [],
   "source": [
    "# path to string\n",
    "path = r'/Users/puchater/Documents/CareerFoundry/Data Immersion/6 Final Project/2 Data'"
   ]
  },
  {
   "cell_type": "code",
   "execution_count": 18,
   "id": "b7f987c4",
   "metadata": {},
   "outputs": [],
   "source": [
    "happy = pd.read_pickle(os.path.join(path, 'Prepared Data', 'happy_clean_data.pkl'))"
   ]
  },
  {
   "cell_type": "code",
   "execution_count": 19,
   "id": "1aedc757",
   "metadata": {},
   "outputs": [],
   "source": [
    "# Import \".json\" file for the world \n",
    "\n",
    "country_geo = r'/Users/puchater/Documents/CareerFoundry/Data Immersion/6 Final Project/2 Data/Original Data/countries.geojson'"
   ]
  },
  {
   "cell_type": "code",
   "execution_count": 20,
   "id": "fbb9a653",
   "metadata": {},
   "outputs": [
    {
     "data": {
      "text/plain": [
       "\"\\n# Iterating through the json list\\nfor i in data['features']:\\n    print(i)\\n\""
      ]
     },
     "execution_count": 20,
     "metadata": {},
     "output_type": "execute_result"
    }
   ],
   "source": [
    "# That's just in case you want to look at the JSON file contents here too:\n",
    "\n",
    "f = open(r'/Users/puchater/Documents/CareerFoundry/Data Immersion/6 Final Project/2 Data/Original Data/countries.geojson',)\n",
    "  \n",
    "# returns JSON object asa dictionary\n",
    "data = json.load(f)\n",
    "  \n",
    "'''\n",
    "# Iterating through the json list\n",
    "for i in data['features']:\n",
    "    print(i)\n",
    "'''"
   ]
  },
  {
   "cell_type": "code",
   "execution_count": 21,
   "id": "f21e95f4",
   "metadata": {},
   "outputs": [
    {
     "data": {
      "text/html": [
       "<div>\n",
       "<style scoped>\n",
       "    .dataframe tbody tr th:only-of-type {\n",
       "        vertical-align: middle;\n",
       "    }\n",
       "\n",
       "    .dataframe tbody tr th {\n",
       "        vertical-align: top;\n",
       "    }\n",
       "\n",
       "    .dataframe thead th {\n",
       "        text-align: right;\n",
       "    }\n",
       "</style>\n",
       "<table border=\"1\" class=\"dataframe\">\n",
       "  <thead>\n",
       "    <tr style=\"text-align: right;\">\n",
       "      <th></th>\n",
       "      <th>Country</th>\n",
       "      <th>Year</th>\n",
       "      <th>Happiness score</th>\n",
       "      <th>GDP</th>\n",
       "      <th>Social support</th>\n",
       "      <th>Life expectancy</th>\n",
       "      <th>Freedom</th>\n",
       "      <th>Generosity</th>\n",
       "      <th>Corruption</th>\n",
       "      <th>Positive affect</th>\n",
       "      <th>Negative affect</th>\n",
       "    </tr>\n",
       "  </thead>\n",
       "  <tbody>\n",
       "    <tr>\n",
       "      <th>0</th>\n",
       "      <td>Afghanistan</td>\n",
       "      <td>2008</td>\n",
       "      <td>3.723590</td>\n",
       "      <td>7.350416</td>\n",
       "      <td>0.450662</td>\n",
       "      <td>50.500000</td>\n",
       "      <td>0.718114</td>\n",
       "      <td>0.167652</td>\n",
       "      <td>0.881686</td>\n",
       "      <td>0.414297</td>\n",
       "      <td>0.258195</td>\n",
       "    </tr>\n",
       "    <tr>\n",
       "      <th>1</th>\n",
       "      <td>Afghanistan</td>\n",
       "      <td>2009</td>\n",
       "      <td>4.401778</td>\n",
       "      <td>7.508646</td>\n",
       "      <td>0.552308</td>\n",
       "      <td>50.799999</td>\n",
       "      <td>0.678896</td>\n",
       "      <td>0.190809</td>\n",
       "      <td>0.850035</td>\n",
       "      <td>0.481421</td>\n",
       "      <td>0.237092</td>\n",
       "    </tr>\n",
       "    <tr>\n",
       "      <th>2</th>\n",
       "      <td>Afghanistan</td>\n",
       "      <td>2010</td>\n",
       "      <td>4.758381</td>\n",
       "      <td>7.613900</td>\n",
       "      <td>0.539075</td>\n",
       "      <td>51.099998</td>\n",
       "      <td>0.600127</td>\n",
       "      <td>0.121316</td>\n",
       "      <td>0.706766</td>\n",
       "      <td>0.516907</td>\n",
       "      <td>0.275324</td>\n",
       "    </tr>\n",
       "    <tr>\n",
       "      <th>3</th>\n",
       "      <td>Afghanistan</td>\n",
       "      <td>2011</td>\n",
       "      <td>3.831719</td>\n",
       "      <td>7.581259</td>\n",
       "      <td>0.521104</td>\n",
       "      <td>51.400002</td>\n",
       "      <td>0.495901</td>\n",
       "      <td>0.163571</td>\n",
       "      <td>0.731109</td>\n",
       "      <td>0.479835</td>\n",
       "      <td>0.267175</td>\n",
       "    </tr>\n",
       "    <tr>\n",
       "      <th>4</th>\n",
       "      <td>Afghanistan</td>\n",
       "      <td>2012</td>\n",
       "      <td>3.782938</td>\n",
       "      <td>7.660506</td>\n",
       "      <td>0.520637</td>\n",
       "      <td>51.700001</td>\n",
       "      <td>0.530935</td>\n",
       "      <td>0.237588</td>\n",
       "      <td>0.775620</td>\n",
       "      <td>0.613513</td>\n",
       "      <td>0.267919</td>\n",
       "    </tr>\n",
       "  </tbody>\n",
       "</table>\n",
       "</div>"
      ],
      "text/plain": [
       "       Country  Year  Happiness score       GDP  Social support  \\\n",
       "0  Afghanistan  2008         3.723590  7.350416        0.450662   \n",
       "1  Afghanistan  2009         4.401778  7.508646        0.552308   \n",
       "2  Afghanistan  2010         4.758381  7.613900        0.539075   \n",
       "3  Afghanistan  2011         3.831719  7.581259        0.521104   \n",
       "4  Afghanistan  2012         3.782938  7.660506        0.520637   \n",
       "\n",
       "   Life expectancy   Freedom  Generosity  Corruption  Positive affect  \\\n",
       "0        50.500000  0.718114    0.167652    0.881686         0.414297   \n",
       "1        50.799999  0.678896    0.190809    0.850035         0.481421   \n",
       "2        51.099998  0.600127    0.121316    0.706766         0.516907   \n",
       "3        51.400002  0.495901    0.163571    0.731109         0.479835   \n",
       "4        51.700001  0.530935    0.237588    0.775620         0.613513   \n",
       "\n",
       "   Negative affect  \n",
       "0         0.258195  \n",
       "1         0.237092  \n",
       "2         0.275324  \n",
       "3         0.267175  \n",
       "4         0.267919  "
      ]
     },
     "execution_count": 21,
     "metadata": {},
     "output_type": "execute_result"
    }
   ],
   "source": [
    "happy.head()"
   ]
  },
  {
   "cell_type": "code",
   "execution_count": 22,
   "id": "1ff3683c",
   "metadata": {},
   "outputs": [],
   "source": [
    "# This command propts matplotlib visuals to appear in the notebook \n",
    "\n",
    "# %matplotlib inline"
   ]
  },
  {
   "cell_type": "markdown",
   "id": "95c35368",
   "metadata": {},
   "source": [
    "# Data wrangling"
   ]
  },
  {
   "cell_type": "code",
   "execution_count": 24,
   "id": "681cf52f",
   "metadata": {
    "scrolled": true
   },
   "outputs": [
    {
     "data": {
      "text/plain": [
       "Zimbabwe        17\n",
       "Costa Rica      17\n",
       "Cameroon        17\n",
       "Canada          17\n",
       "Chile           17\n",
       "                ..\n",
       "Belize           2\n",
       "Saudi Arabia     2\n",
       "Guyana           1\n",
       "Suriname         1\n",
       "Qatar            1\n",
       "Name: Country, Length: 156, dtype: int64"
      ]
     },
     "execution_count": 24,
     "metadata": {},
     "output_type": "execute_result"
    }
   ],
   "source": [
    "happy['Country'].value_counts(dropna = False)"
   ]
  },
  {
   "cell_type": "code",
   "execution_count": 25,
   "id": "c8fb08d0",
   "metadata": {},
   "outputs": [],
   "source": [
    "standard_names = coco.convert(happy['Country'], to='ISO3')\n",
    "happy['Country'] = coco.convert(happy['Country'], to='ISO3')"
   ]
  },
  {
   "cell_type": "code",
   "execution_count": 26,
   "id": "2c90548a",
   "metadata": {},
   "outputs": [],
   "source": [
    "#print(standard_names)"
   ]
  },
  {
   "cell_type": "code",
   "execution_count": 27,
   "id": "fa6a20fb",
   "metadata": {
    "scrolled": true
   },
   "outputs": [],
   "source": [
    "#happy.head()"
   ]
  },
  {
   "cell_type": "code",
   "execution_count": 28,
   "id": "9b9c3a88",
   "metadata": {},
   "outputs": [],
   "source": [
    "# matching_dict = coco.match(happy['Country name'],country_geo['ADMIN'] )\n",
    "#happy_json = pd.read_json(r'/Users/puchater/Documents/CareerFoundry/Data Immersion/6 Final Project/2 Data/Original Data/countries.geojson')"
   ]
  },
  {
   "cell_type": "code",
   "execution_count": 29,
   "id": "790ea404",
   "metadata": {},
   "outputs": [],
   "source": [
    "#happy_json = pd.json_normalize(happy_json[\"features\"])\n",
    "#happy_json"
   ]
  },
  {
   "cell_type": "code",
   "execution_count": 30,
   "id": "8ccbfad3",
   "metadata": {},
   "outputs": [],
   "source": [
    "#print(country_geo)"
   ]
  },
  {
   "cell_type": "markdown",
   "id": "9396e626",
   "metadata": {},
   "source": [
    "# Data subsetting"
   ]
  },
  {
   "cell_type": "code",
   "execution_count": 32,
   "id": "c65f3a3e",
   "metadata": {},
   "outputs": [],
   "source": [
    "happy.loc[happy['Year']<2015,'corona_flag'] = 'pre-anlysis'"
   ]
  },
  {
   "cell_type": "code",
   "execution_count": 34,
   "id": "8ab810b8",
   "metadata": {},
   "outputs": [],
   "source": [
    "happy.loc[(happy['Year']>=2015)& (happy['Year']<2019),'corona_flag'] = 'pre-corona'"
   ]
  },
  {
   "cell_type": "code",
   "execution_count": 35,
   "id": "588847cd",
   "metadata": {},
   "outputs": [],
   "source": [
    "happy.loc[happy['Year']>2019,'corona_flag'] = 'corona'"
   ]
  },
  {
   "cell_type": "code",
   "execution_count": 36,
   "id": "07bf725a",
   "metadata": {},
   "outputs": [],
   "source": [
    "happy_pre_corona =  happy[happy['corona_flag']=='pre-corona']"
   ]
  },
  {
   "cell_type": "code",
   "execution_count": 37,
   "id": "f0d1649c",
   "metadata": {},
   "outputs": [],
   "source": [
    "happy_corona =  happy[happy['corona_flag']=='corona']"
   ]
  },
  {
   "cell_type": "markdown",
   "id": "5d4fc323",
   "metadata": {},
   "source": [
    "# Drawing the map"
   ]
  },
  {
   "cell_type": "code",
   "execution_count": 38,
   "id": "93d5fe7a",
   "metadata": {},
   "outputs": [
    {
     "data": {
      "text/html": [
       "<div>\n",
       "<style scoped>\n",
       "    .dataframe tbody tr th:only-of-type {\n",
       "        vertical-align: middle;\n",
       "    }\n",
       "\n",
       "    .dataframe tbody tr th {\n",
       "        vertical-align: top;\n",
       "    }\n",
       "\n",
       "    .dataframe thead th {\n",
       "        text-align: right;\n",
       "    }\n",
       "</style>\n",
       "<table border=\"1\" class=\"dataframe\">\n",
       "  <thead>\n",
       "    <tr style=\"text-align: right;\">\n",
       "      <th></th>\n",
       "      <th>Country</th>\n",
       "      <th>Happiness score</th>\n",
       "    </tr>\n",
       "  </thead>\n",
       "  <tbody>\n",
       "    <tr>\n",
       "      <th>7</th>\n",
       "      <td>AFG</td>\n",
       "      <td>3.982855</td>\n",
       "    </tr>\n",
       "    <tr>\n",
       "      <th>8</th>\n",
       "      <td>AFG</td>\n",
       "      <td>4.220169</td>\n",
       "    </tr>\n",
       "    <tr>\n",
       "      <th>9</th>\n",
       "      <td>AFG</td>\n",
       "      <td>2.661718</td>\n",
       "    </tr>\n",
       "    <tr>\n",
       "      <th>10</th>\n",
       "      <td>AFG</td>\n",
       "      <td>2.694303</td>\n",
       "    </tr>\n",
       "    <tr>\n",
       "      <th>21</th>\n",
       "      <td>ALB</td>\n",
       "      <td>4.606651</td>\n",
       "    </tr>\n",
       "  </tbody>\n",
       "</table>\n",
       "</div>"
      ],
      "text/plain": [
       "   Country  Happiness score\n",
       "7      AFG         3.982855\n",
       "8      AFG         4.220169\n",
       "9      AFG         2.661718\n",
       "10     AFG         2.694303\n",
       "21     ALB         4.606651"
      ]
     },
     "execution_count": 38,
     "metadata": {},
     "output_type": "execute_result"
    }
   ],
   "source": [
    "# Create a data frame with just the states and the values for rating we want plotted\n",
    "\n",
    "data_to_plot_pre_corona = happy_pre_corona[['Country','Happiness score']]\n",
    "data_to_plot_pre_corona.head()"
   ]
  },
  {
   "cell_type": "code",
   "execution_count": null,
   "id": "b6dfd8d3",
   "metadata": {},
   "outputs": [],
   "source": [
    "# Setup a folium map at a high-level zoom\n",
    "map = folium.Map(location = [100, 0], zoom_start = 1.5)\n",
    "\n",
    "# Choropleth maps bind Pandas Data Frames and json geometries.This allows us to quickly visualize data combinations\n",
    "folium.Choropleth(\n",
    "    geo_data = country_geo, \n",
    "    data = data_to_plot_pre_corona,\n",
    "    columns = ['Country', 'Happiness score'],\n",
    "    key_on = 'feature.properties.ISO_A3', # this part is very important - check your json file to see where the KEY is located\n",
    "    fill_color = 'YlOrBr', fill_opacity=0.6, line_opacity=0.1,\n",
    "    legend_name = \"rating\").add_to(map)\n",
    "folium.LayerControl().add_to(map)\n",
    "\n",
    "map"
   ]
  },
  {
   "cell_type": "code",
   "execution_count": null,
   "id": "b5e6df95",
   "metadata": {},
   "outputs": [],
   "source": [
    "map.save('plot_data_pre_corona.html')"
   ]
  },
  {
   "cell_type": "code",
   "execution_count": null,
   "id": "a598d15a",
   "metadata": {},
   "outputs": [],
   "source": [
    "# Create a data frame with just the states and the values for rating we want plotted\n",
    "\n",
    "data_to_plot_corona = happy_corona[['Country','Happiness score']]\n",
    "data_to_plot_corona.head()"
   ]
  },
  {
   "cell_type": "code",
   "execution_count": null,
   "id": "27ccd002",
   "metadata": {},
   "outputs": [],
   "source": [
    "# Setup a folium map at a high-level zoom\n",
    "map = folium.Map(location = [100, 0], zoom_start = 1.5)\n",
    "\n",
    "# Choropleth maps bind Pandas Data Frames and json geometries.This allows us to quickly visualize data combinations\n",
    "folium.Choropleth(\n",
    "    geo_data = country_geo, \n",
    "    data = data_to_plot_corona,\n",
    "    columns = ['Country', 'Happiness score'],\n",
    "    key_on = 'feature.properties.ISO_A3', # this part is very important - check your json file to see where the KEY is located\n",
    "    fill_color = 'YlOrBr', fill_opacity=0.6, line_opacity=0.1,\n",
    "    legend_name = \"rating\").add_to(map)\n",
    "folium.LayerControl().add_to(map)\n",
    "\n",
    "map"
   ]
  },
  {
   "cell_type": "code",
   "execution_count": null,
   "id": "bef163b1",
   "metadata": {},
   "outputs": [],
   "source": [
    "map.save('plot_data_corona.html')"
   ]
  },
  {
   "cell_type": "code",
   "execution_count": null,
   "id": "5bc8a7be",
   "metadata": {},
   "outputs": [],
   "source": [
    "# Discuss the results and what they mean in a markdown section.\n",
    "# Does the analysis answer any of your existing research questions?\n",
    "# The analysis shows the happiest countries pre and during COVID 19 pandemic\n",
    "# Does the analysis lead you to any new research questions?\n",
    "# not yet."
   ]
  },
  {
   "cell_type": "code",
   "execution_count": null,
   "id": "7c802050",
   "metadata": {},
   "outputs": [],
   "source": []
  }
 ],
 "metadata": {
  "kernelspec": {
   "display_name": "Python 3 (ipykernel)",
   "language": "python",
   "name": "python3"
  },
  "language_info": {
   "codemirror_mode": {
    "name": "ipython",
    "version": 3
   },
   "file_extension": ".py",
   "mimetype": "text/x-python",
   "name": "python",
   "nbconvert_exporter": "python",
   "pygments_lexer": "ipython3",
   "version": "3.10.9"
  }
 },
 "nbformat": 4,
 "nbformat_minor": 5
}
